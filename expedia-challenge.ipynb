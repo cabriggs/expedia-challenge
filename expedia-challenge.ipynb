{
 "cells": [
  {
   "cell_type": "code",
   "execution_count": 1,
   "metadata": {},
   "outputs": [],
   "source": [
    "import pandas as pd\n",
    "import numpy as np\n",
    "import os\n",
    "from os.path import isdir, isfile\n",
    "import matplotlib.pyplot as plt\n",
    "\n",
    "from sklearn.model_selection import train_test_split\n",
    "from sklearn.model_selection import cross_val_score\n",
    "from sklearn.model_selection import StratifiedKFold\n",
    "from sklearn.linear_model import LogisticRegression\n",
    "from sklearn.tree import DecisionTreeClassifier\n",
    "from sklearn.neighbors import KNeighborsClassifier\n",
    "from sklearn.discriminant_analysis import LinearDiscriminantAnalysis\n",
    "from sklearn.naive_bayes import GaussianNB\n",
    "from sklearn.neural_network import MLPClassifier\n",
    "from sklearn.svm import SVC\n",
    "\n",
    "# for scoring predictions\n",
    "import ml_metrics as metrics\n",
    "\n",
    "# for saving models\n",
    "from joblib import dump, load"
   ]
  },
  {
   "cell_type": "code",
   "execution_count": 2,
   "metadata": {},
   "outputs": [],
   "source": [
    "# variable descs are here: http://kaushal-desai.us/expedia-recommender-system/\n",
    "# this loads the dataset from the current working directory. It can be downloaded here:\n",
    "#     https://www.kaggle.com/c/expedia-hotel-recommendations/data?select=train.csv\n",
    "\n",
    "df_full = pd.read_csv('hotel_train.csv')"
   ]
  },
  {
   "cell_type": "code",
   "execution_count": 3,
   "metadata": {},
   "outputs": [],
   "source": [
    "''' Separate off test data. I'm taking an unusually small fraction for testing because\n",
    "    my predictions take a long time. It's still over 100,000 records for testing.\n",
    "'''\n",
    "df_tr, df_te = train_test_split(df_full, test_size=0.01, random_state = 1)\n",
    "\n",
    "# delete df_full to free up memory\n",
    "del df_full"
   ]
  },
  {
   "cell_type": "code",
   "execution_count": 4,
   "metadata": {},
   "outputs": [],
   "source": [
    "# For training purposes, I'll drop the rows with nan and non-numeric columns\n",
    "df_tr = df_tr.select_dtypes(include=np.number).dropna()"
   ]
  },
  {
   "cell_type": "code",
   "execution_count": 5,
   "metadata": {},
   "outputs": [
    {
     "name": "stdout",
     "output_type": "stream",
     "text": [
      "7575230\n",
      "119624\n"
     ]
    }
   ],
   "source": [
    "# Check the length of the training and testing sets\n",
    "print(len(df_tr))\n",
    "print(len(df_te))"
   ]
  },
  {
   "cell_type": "markdown",
   "metadata": {},
   "source": [
    "That's a lot of records. I'm going to start with a subset, hone my technique there, then go back to the larger set.\n",
    "\n",
    "I actually don't want to balance my classes here. There are rarely booked clusters, and if I balance classes in my training set, the effect this has on the model is a willingness to sacrifice some accuracy in predicting the most popular hotel clusters in exchange for a comparable increase in accuracy in prediction for the rarely booked clusters. From a business perspective (and by the metrics given in the challenge), this tradeoff does not make sense. The aim is to get as many predictions correct as possible. So the oft-booked clusters should be privileged with overrepresentation in the training set, proportionate to their overrepresentation in the booking data."
   ]
  },
  {
   "cell_type": "code",
   "execution_count": 6,
   "metadata": {},
   "outputs": [
    {
     "name": "stdout",
     "output_type": "stream",
     "text": [
      "(70000, 21)\n",
      "(30000, 21)\n"
     ]
    }
   ],
   "source": [
    "# sample 100,000 records\n",
    "df = df_tr.sample(n=100000)\n",
    "\n",
    "# split into train and test dataframes. df is already randomized.\n",
    "tr = df.iloc[:70000,:]\n",
    "te = df.iloc[70000:,:]\n",
    "\n",
    "# reset indices\n",
    "tr = tr.reset_index(drop=True)\n",
    "te = te.reset_index(drop=True)\n",
    "\n",
    "# check shape\n",
    "print(tr.shape)\n",
    "print(te.shape)"
   ]
  },
  {
   "cell_type": "code",
   "execution_count": 7,
   "metadata": {},
   "outputs": [
    {
     "data": {
      "text/plain": [
       "0.06165722222222222"
      ]
     },
     "execution_count": 7,
     "metadata": {},
     "output_type": "execute_result"
    }
   ],
   "source": [
    "# Get the most prevalent five clusters, in descending order\n",
    "top_clusters = [_ for _ in df_tr.hotel_cluster.value_counts().head().index]\n",
    "\n",
    "# Guess the top five clusters regardless of record info\n",
    "predictions = [top_clusters for i in range(len(te))]\n",
    "\n",
    "# Check guesses\n",
    "target = [[_] for _ in te[\"hotel_cluster\"]]\n",
    "metrics.mapk(target, predictions, k=5)"
   ]
  },
  {
   "cell_type": "markdown",
   "metadata": {},
   "source": [
    "This doesn't work well.\n",
    "\n",
    "The variable srch_destination_id identifies the region targeted by the search. It stands to reason that we should modify our guesses based on the clusters prevalent per location. What if I guess the top five clusters based on the search destination id?"
   ]
  },
  {
   "cell_type": "code",
   "execution_count": 8,
   "metadata": {},
   "outputs": [],
   "source": [
    "def top_five(dest):\n",
    "    ''' accepts: the search target location (srch_destination_id)\n",
    "        returns: the top five (by prevalence in records) hotel clusters at the location\n",
    "        notes:   if there are fewer than five hotel_clusters, we fill out the list by\n",
    "                 repeatedly appending the first hotel cluster in the list so far.\n",
    "    '''\n",
    "    ls = [cl for cl in tr[tr.srch_destination_id==dest].hotel_cluster.value_counts().head().keys()]\n",
    "    # In case there are no hotel_clusters associated with the location, just guess the top 5 overall.\n",
    "    if len(ls)==0:\n",
    "        return([91,41,48,64,65])\n",
    "    # The score calculator expects five guesses, so fill out a shorter list.\n",
    "    while len(ls)<5:\n",
    "        ls.insert(0,ls[0])\n",
    "    return(ls)"
   ]
  },
  {
   "cell_type": "code",
   "execution_count": 9,
   "metadata": {},
   "outputs": [
    {
     "name": "stderr",
     "output_type": "stream",
     "text": [
      "/home/chris/.local/lib/python3.5/site-packages/ipykernel_launcher.py:2: UserWarning: Pandas doesn't allow columns to be created via a new attribute name - see https://pandas.pydata.org/pandas-docs/stable/indexing.html#attribute-access\n",
      "  \n"
     ]
    },
    {
     "data": {
      "text/plain": [
       "0.24062166666666665"
      ]
     },
     "execution_count": 9,
     "metadata": {},
     "output_type": "execute_result"
    }
   ],
   "source": [
    "# Make predictions\n",
    "te.pred = te['srch_destination_id'].apply(top_five)\n",
    "\n",
    "# Check guesses\n",
    "target = [[_] for _ in te[\"hotel_cluster\"]]\n",
    "metrics.mapk(target, te.pred, k=5)"
   ]
  },
  {
   "cell_type": "markdown",
   "metadata": {},
   "source": [
    "This is a big improvement, and we've used no machine learning yet! Let's see what we can do by incorporating some machine learning models.\n",
    "\n",
    "Before trying to get creative, I'm going to throw some models at the data: logistic regression, LDA, KNN, naive Bayes, a decision tree classifier, a neural network, and a SVM. The idea here is not to get a good prediction, but to figure out which type of model might be best employed in a more careful attempt. I'll try these models on a small subset of the data."
   ]
  },
  {
   "cell_type": "code",
   "execution_count": 10,
   "metadata": {},
   "outputs": [],
   "source": [
    "models = []\n",
    "models.append(('LR', LogisticRegression(solver='liblinear', multi_class='ovr')))\n",
    "models.append(('LDA', LinearDiscriminantAnalysis()))\n",
    "models.append(('KNN', KNeighborsClassifier()))\n",
    "models.append(('CART', DecisionTreeClassifier()))\n",
    "models.append(('NB', GaussianNB()))\n",
    "models.append(('NN', MLPClassifier(hidden_layer_sizes=(30,30), max_iter=75)))\n",
    "models.append(('SVM', SVC(gamma='auto')))"
   ]
  },
  {
   "cell_type": "code",
   "execution_count": 11,
   "metadata": {},
   "outputs": [],
   "source": [
    "# Sample 20,000 records\n",
    "df = df_tr.sample(n=20000, random_state=1)\n",
    "\n",
    "# Split into test and train sets, and break off the target variable\n",
    "array = df.values\n",
    "X = array[:,:20]\n",
    "y = array[:,20]\n",
    "X_train, X_validation, Y_train, Y_validation = train_test_split(X, y, test_size=0.3, random_state=1)"
   ]
  },
  {
   "cell_type": "code",
   "execution_count": 12,
   "metadata": {},
   "outputs": [
    {
     "name": "stdout",
     "output_type": "stream",
     "text": [
      "LR: 0.052714285714285714 (0.004503966505838413)\n",
      "LDA: 0.06335714285714286 (0.00395187891246373)\n",
      "KNN: 0.014714285714285713 (0.003116774889895918)\n",
      "CART: 0.0725 (0.007229827671754375)\n",
      "NB: 0.05935714285714285 (0.004817591065404928)\n"
     ]
    },
    {
     "name": "stderr",
     "output_type": "stream",
     "text": [
      "/home/chris/.local/lib/python3.5/site-packages/sklearn/neural_network/_multilayer_perceptron.py:571: ConvergenceWarning: Stochastic Optimizer: Maximum iterations (75) reached and the optimization hasn't converged yet.\n",
      "  % self.max_iter, ConvergenceWarning)\n",
      "/home/chris/.local/lib/python3.5/site-packages/sklearn/neural_network/_multilayer_perceptron.py:571: ConvergenceWarning: Stochastic Optimizer: Maximum iterations (75) reached and the optimization hasn't converged yet.\n",
      "  % self.max_iter, ConvergenceWarning)\n",
      "/home/chris/.local/lib/python3.5/site-packages/sklearn/neural_network/_multilayer_perceptron.py:571: ConvergenceWarning: Stochastic Optimizer: Maximum iterations (75) reached and the optimization hasn't converged yet.\n",
      "  % self.max_iter, ConvergenceWarning)\n",
      "/home/chris/.local/lib/python3.5/site-packages/sklearn/neural_network/_multilayer_perceptron.py:571: ConvergenceWarning: Stochastic Optimizer: Maximum iterations (75) reached and the optimization hasn't converged yet.\n",
      "  % self.max_iter, ConvergenceWarning)\n",
      "/home/chris/.local/lib/python3.5/site-packages/sklearn/neural_network/_multilayer_perceptron.py:571: ConvergenceWarning: Stochastic Optimizer: Maximum iterations (75) reached and the optimization hasn't converged yet.\n",
      "  % self.max_iter, ConvergenceWarning)\n",
      "/home/chris/.local/lib/python3.5/site-packages/sklearn/neural_network/_multilayer_perceptron.py:571: ConvergenceWarning: Stochastic Optimizer: Maximum iterations (75) reached and the optimization hasn't converged yet.\n",
      "  % self.max_iter, ConvergenceWarning)\n"
     ]
    },
    {
     "name": "stdout",
     "output_type": "stream",
     "text": [
      "NN: 0.03385714285714286 (0.00034992710611188337)\n",
      "SVM: 0.03628571428571429 (0.0010973065354098008)\n"
     ]
    }
   ],
   "source": [
    "results = []\n",
    "names = []\n",
    "\n",
    "for name, model in models:\n",
    "    kfold = StratifiedKFold(n_splits=10, random_state=1, shuffle=True)\n",
    "    cv_results = cross_val_score(model, X_train, Y_train, cv=kfold, scoring='accuracy')\n",
    "    results.append(cv_results)\n",
    "    names.append(name)\n",
    "    print('{}: {} ({})'.format(name, cv_results.mean(), cv_results.std()))"
   ]
  },
  {
   "cell_type": "markdown",
   "metadata": {},
   "source": [
    "It looks like the decision tree is superior (factoring in both accuracy and time to train). I'll proceed with that.\n",
    "\n",
    "Here's the plan: I had good success predicting hotel_cluster by just choosing the top five hotel_cluster for the record's srch_destination_id. I will improve on this by using machine learning for each srch_destination_id instead of just naively selecting the top five clusters for each srch_destination_id.\n",
    "\n",
    "There are 100 hotel clusters (not all of which are represented in each srch_destination_id). To make predictions for a particular srch_destination_id, I will iterate over all hotel_cluster represented in that srch_destination_id, and create a separate decision tree model for each of these hotel clusters. The output of each decision tree will be 1 or 0 depending on whether it judges its particular hotel_cluster is represented in that record. To make a prediction for a particular record, I'll run each of the trees, and select all of the positive predictions. If there are fewer than five positive predictions, I'll fill out the rest of my five guesses from the top hotel_clusters for that srch_destination_id. If there are more than five positive predictions, I'll order them by popularity for the srch_destination_id, and take the top five in the list.\n",
    "\n",
    "There are about 33,000 unique values of srch_destination_id, and I'll be training up to 100 decision trees per srch_destination_id. This means training a lot of decision trees. I don't think I can create trees for all the records. To optimize the impact of the resources I do have, I'll order the srch_destination_id by the number of records associated with them. For example, the srch_destination_id with the most records is 8250, with about 333,000 records. That means my first 100 decision trees will cover a lot of records. Let's have a look."
   ]
  },
  {
   "cell_type": "code",
   "execution_count": 13,
   "metadata": {},
   "outputs": [
    {
     "data": {
      "text/plain": [
       "Text(0, 0.5, 'Percentage of records covered')"
      ]
     },
     "execution_count": 13,
     "metadata": {},
     "output_type": "execute_result"
    },
    {
     "data": {
      "image/png": "[encoded data removed]",
      "text/plain": [
       "<Figure size 432x288 with 1 Axes>"
      ]
     },
     "metadata": {
      "needs_background": "light"
     },
     "output_type": "display_data"
    }
   ],
   "source": [
    "# Graph the percentage of all records covered vs number of srch_destination_id covered\n",
    "\n",
    "num_records = len(df_tr)\n",
    "\n",
    "xs = [i for i in range(1,1001)]\n",
    "ys = []\n",
    "for num in df_tr.srch_destination_id.value_counts().values[:1000]:\n",
    "    if len(ys)==0:\n",
    "        ys.append(num)\n",
    "    else:\n",
    "        ys.append(ys[-1]+num)\n",
    "ys=[100*y/num_records for y in ys]\n",
    "\n",
    "plt.scatter(xs, ys, s=4)\n",
    "plt.xlabel('Number of srch_destination_id covered')\n",
    "plt.ylabel('Percentage of records covered')"
   ]
  },
  {
   "cell_type": "code",
   "execution_count": 14,
   "metadata": {},
   "outputs": [
    {
     "data": {
      "text/plain": [
       "Text(0, 0.5, 'Percentage of records covered')"
      ]
     },
     "execution_count": 14,
     "metadata": {},
     "output_type": "execute_result"
    },
    {
     "data": {
      "image/png": "[encoded data removed]",
      "text/plain": [
       "<Figure size 1080x432 with 1 Axes>"
      ]
     },
     "metadata": {
      "needs_background": "light"
     },
     "output_type": "display_data"
    }
   ],
   "source": [
    "# Graph the percentage of all records covered vs number of decision tree models trained\n",
    "\n",
    "xs = []\n",
    "ys = []\n",
    "z = df_tr.srch_destination_id.value_counts()\n",
    "for i in z.index:\n",
    "    num_trees = len(df_tr[df_tr.srch_destination_id==i].hotel_cluster.unique())\n",
    "    if len(xs)==0:\n",
    "        xs.append(num_trees)\n",
    "    else:\n",
    "        xs.append(xs[-1]+num_trees)\n",
    "    if len(ys)==0:\n",
    "        ys.append(z[i])\n",
    "    else:\n",
    "        ys.append(ys[-1]+z[i])\n",
    "ys=[y/num_records for y in ys]\n",
    "\n",
    "plt.figure(figsize=(15, 6))\n",
    "plt.scatter(xs, ys, s=4)\n",
    "plt.xlabel('Number of trees')\n",
    "plt.ylabel('Percentage of records covered')"
   ]
  },
  {
   "cell_type": "markdown",
   "metadata": {},
   "source": [
    "Proceeding in this way, rather than training a theoretical maximum 3.3 million models, I can cover most of the records with just 20,000 or so models. As for the records not covered by decision trees, I will revert to guessing the top five clusters for that srch_destination_id. This strategy may work better than it appears at first glance, as I am using the naive top-five strategy for records unlikely to have many hotel clusters; in particular, I'm sure to guess (although not in the right order) the correct cluster for any record with a srch_destination_id with at most five associated hotel_clusters. \n",
    "\n",
    "I think there would be benefits to an ensemble approach. Given more memory, I'd create an ensemble with LDA, decision trees, and Naive Bayes. However, given more memory, I'd also create more decision trees covering more of the records. I think the marginal memory is better spent covering more records with one model, rather than covering fewer records with several models. This hypothesis could be checked on a small data set.\n",
    "\n",
    "Let's begin to organize the models. I will create a meta dictionary \"ddict\" whose keys are srch_destination_id and whose values are in turn dictionaries. These subdictionaries will have the unique hotel_cluster associated to the srch_destination_id as keys and decision tree models corresponding to those clusters as values."
   ]
  },
  {
   "cell_type": "code",
   "execution_count": 15,
   "metadata": {},
   "outputs": [],
   "source": [
    "# This is the dictionary to store the dictionaries of models\n",
    "ddict = {}"
   ]
  },
  {
   "cell_type": "code",
   "execution_count": 16,
   "metadata": {},
   "outputs": [],
   "source": [
    "# A utility function to create augmented dataframes to train the individual trees (per hotel_cluster)\n",
    "# It will be used to add an indicator variable for the hotel_cluster.\n",
    "\n",
    "def cluster_indicator(cluster,i):\n",
    "    ''' accepts: a hotel_cluster and an integer\n",
    "        returns: 1 if they are equal, 0 otherwise\n",
    "    '''\n",
    "    if cluster==i: return(1)\n",
    "    return(0)"
   ]
  },
  {
   "cell_type": "code",
   "execution_count": 17,
   "metadata": {},
   "outputs": [],
   "source": [
    "''' Train the trees. It took about 25 minutes to train about 4000 trees on my machine.\n",
    "    They start slow (since the largest ones are first).\n",
    "# '''\n",
    "\n",
    "progress = 0 # a counter used as a mechanism to break the process by user input\n",
    "\n",
    "# store the srch_destination_ids in descending order of prevalence in the full dataframe\n",
    "srch_dest_ids = df_tr.srch_destination_id.value_counts().index\n",
    "\n",
    "for n in srch_dest_ids:\n",
    "    if n in ddict.keys(): pass # check if we've already handled that srch_destination_id\n",
    "    else:\n",
    "        progress +=1\n",
    "        print('working on {}'.format(n))\n",
    "        if progress%3000==0:\n",
    "            # pause to give user the option to break. I used it to save off models, as I expected running\n",
    "            # the whole process at once would exhaust my memory\n",
    "            cont = input('Continue? y/n')\n",
    "            if cont.lower()=='n': break\n",
    "        \n",
    "        # get the subset of df_tr consisting of records with the particular srch_dest_id\n",
    "        dfr = df_tr[df_tr.srch_destination_id==n]\n",
    "\n",
    "        # initialize the subdictionary which will hold this srch_dest_id's models\n",
    "        ddict[n]={}\n",
    "        \n",
    "        # separate off the training data\n",
    "        X=dfr.values[:,:20]\n",
    "\n",
    "        # for each hotel_cluster, train a model and store it in the subdict \n",
    "        for i in dfr.hotel_cluster.unique():\n",
    "            y = dfr['hotel_cluster'].apply(cluster_indicator, args = [i])\n",
    "            X_train, X_validation, Y_train, Y_validation = train_test_split(X, y, test_size=0.3, random_state=1)\n",
    "\n",
    "            ddict[n][i]=DecisionTreeClassifier()\n",
    "            ddict[n][i].fit(X_train, Y_train)"
   ]
  },
  {
   "cell_type": "code",
   "execution_count": 18,
   "metadata": {},
   "outputs": [],
   "source": [
    "# Save models\n",
    "\n",
    "for i in ddict.keys():\n",
    "    if not os.path.isdir('saved_models/{}'.format(int(i))):\n",
    "        os.makedirs('saved_models/{}'.format(int(i)))\n",
    "    for j in ddict[i].keys():\n",
    "        if not os.path.isfile('saved_models/{}/{}.joblib'.format(int(i),int(j))):\n",
    "            dump(ddict[i][j], 'saved_models/{}/{}.joblib'.format(int(i),int(j)))"
   ]
  },
  {
   "cell_type": "code",
   "execution_count": 22,
   "metadata": {},
   "outputs": [],
   "source": [
    "# Load models from disk\n",
    "\n",
    "ddict = {}\n",
    "for direc in os.listdir('saved_models/'):\n",
    "    srch_dest_id = int(direc)\n",
    "    ddict[srch_dest_id]={}\n",
    "    for filename in os.listdir('saved_models/{}/'.format(direc)):\n",
    "        cluster=int(filename.split('.')[0])\n",
    "        ddict[srch_dest_id][cluster]=load('saved_models/{}/{}'.format(direc,filename))"
   ]
  },
  {
   "cell_type": "markdown",
   "metadata": {},
   "source": [
    "Let's see what percentage of the records are covered by the models trained so far."
   ]
  },
  {
   "cell_type": "code",
   "execution_count": 23,
   "metadata": {},
   "outputs": [
    {
     "name": "stdout",
     "output_type": "stream",
     "text": [
      "93.3% of records are covered by models.\n"
     ]
    }
   ],
   "source": [
    "# check to see how many records are covered by the models trained so far\n",
    "tot = 0\n",
    "for id in ddict.keys():\n",
    "    tot += len(df_tr[df_tr['srch_destination_id']==id])\n",
    "print('{}% of records are covered by models.'.format(round(100*tot/num_records,1)))"
   ]
  },
  {
   "cell_type": "markdown",
   "metadata": {},
   "source": [
    "I suppose that's good enough. Let's test."
   ]
  },
  {
   "cell_type": "code",
   "execution_count": 24,
   "metadata": {},
   "outputs": [],
   "source": [
    "# A function to generate predictions based on the trained models\n",
    "\n",
    "def ddict_pred(x):\n",
    "    ''' accepts: a record (with non-numerics strippedp) from the test set\n",
    "        returns: a list of five predicted hotel_clusters.\n",
    "        notes:   if the record does not have an associated decision tree,\n",
    "                 this will just return the overall top five hotel_clusters.\n",
    "                 I intended to return the top five for the record's\n",
    "                 srch_destination_id, but something was not working with it.\n",
    "    '''\n",
    "    x=x.values.reshape(1,-1)\n",
    "    if x[0][13] in ddict.keys():\n",
    "        preds = []\n",
    "        val_cts = df_tr[df_tr['srch_destination_id']==x[0][13]].hotel_cluster.value_counts()\n",
    "        for j in ddict[x[0][13]].keys():\n",
    "            try: preds.append((j,ddict[x[0][13]][j].predict(x)))\n",
    "            except: return(top_clusters)\n",
    "                #except: print('not fitted: {} in {}'.format(j,x[0][13]))\n",
    "\n",
    "        # the positive predictions\n",
    "        pred_pos = [_[0] for _ in preds if _[1]==1]\n",
    "\n",
    "        if len(pred_pos)<5:\n",
    "            # supplement the prediction list with the prevalent clusters in the search destination\n",
    "            N = len(val_cts)-1\n",
    "            count = 0\n",
    "            while len(pred_pos)<5: # goes down the list of common clusters not yet in pred_pos\n",
    "                # cycles back to the beginning if this list is less than 5-len(pred_pos) in length\n",
    "                remainder = [_ for _ in val_cts.index if _ not in pred_pos]\n",
    "                try: pred_pos.append(remainder[count%N]) # breaks if there is no remainder\n",
    "                except: # so we have all the options in pred_pos already. just append the first until length==5\n",
    "                    while len(pred_pos)<5:\n",
    "                        pred_pos.append(pred_pos[0])\n",
    "                    break\n",
    "                count+=1\n",
    "            pred_final = pred_pos\n",
    "        else:\n",
    "            # orders the predicted cluster according to their prevalence in the search destination\n",
    "            pred_final = [value for value in val_cts.index if value in pred_pos]\n",
    "            # cut to five predictions\n",
    "            pred_final = pred_final[:5]\n",
    "        return(pred_final)\n",
    "    else:\n",
    "        return(top_clusters) # TODO why is this broken, need top five.\n",
    "        #return(top_five(x[0][13]))"
   ]
  },
  {
   "cell_type": "code",
   "execution_count": 25,
   "metadata": {},
   "outputs": [],
   "source": [
    "# Split off the test target\n",
    "target = [[_] for _ in df_te.select_dtypes(include=np.number)[\"hotel_cluster\"]]\n",
    "\n",
    "# Drop the non-numeric columns, which I don't use for the prediction\n",
    "df_te = df_te.iloc[:,:-1].select_dtypes(include=np.number)"
   ]
  },
  {
   "cell_type": "code",
   "execution_count": 803,
   "metadata": {},
   "outputs": [],
   "source": [
    "''' Generate the test predictions.\n",
    "    This took two hours on my machine.\n",
    "'''\n",
    "\n",
    "te.pred = df_te.apply(ddict_pred,axis=1)"
   ]
  },
  {
   "cell_type": "code",
   "execution_count": 810,
   "metadata": {},
   "outputs": [
    {
     "name": "stdout",
     "output_type": "stream",
     "text": [
      "Model score: 0.512\n"
     ]
    }
   ],
   "source": [
    "score = metrics.mapk(target, te.pred, k=5)\n",
    "print('Model score: {}'.format(round(score,3)))"
   ]
  },
  {
   "cell_type": "markdown",
   "metadata": {},
   "source": [
    "## Conclusion\n",
    "\n",
    "This is good accuracy. Unfortunately, the predicting is slow. It takes two hours to generate 100,000 predictions, so for the full test file it should take around 80 hours on my machine. It could be done, as memory was not close to running out, and would not run out for the full test file of ~4million records.\n",
    "\n",
    "Improvements which should be straightforward:\n",
    "* Feature selection.\n",
    "* Finish training models for all srch_destination_id values.\n",
    "* Take an ensemble approach with decision trees, LDA, and naive Bayes.\n",
    "* Implement calibrated classifiers to give probabilistic contexts to the classifier outputs.\n",
    "\n",
    "Unresolved issues:\n",
    "* I could not get the top_five function working within my model prediction function. Instead, I just assigned the top five overall hotel_cluster list to any srch_destination_id which did not have a model trained for it. By getting the top_five per srch_destination_id working within my model prediction, I estimate I would increase the score by 0.05 to 0.1 on my reduced test set."
   ]
  },
  {
   "cell_type": "markdown",
   "metadata": {},
   "source": [
    "## Spare code"
   ]
  },
  {
   "cell_type": "code",
   "execution_count": null,
   "metadata": {},
   "outputs": [],
   "source": [
    "# # code for selecting balanced classes (I argued above why we shouldn't)\n",
    "\n",
    "# # how many records for each hotel cluster?\n",
    "# df_tr[df_tr.is_booking == 1].hotel_cluster.value_counts()\n",
    "\n",
    "# # verifying the unique hotel cluster values\n",
    "# df.hotel_cluster.unique()\n",
    "\n",
    "# # balance the sample on hotel_cluster. I think I can do this manually:\n",
    "# df_sample = blank dataframe\n",
    "# for each of the values in df.hotel_cluster.values():\n",
    "#    temp_dataframe = randomly sample 5000 lines from df[df.hotel_cluster==value]\n",
    "#    append temp_dataframe to df_sample\n",
    "# shuffle df_sample\n",
    "# reindex df_sample\n",
    "\n",
    "# ''' The most rarely booked cluster has 766 records. We can get a good-sized, balanced subset\n",
    "#     taking 750 records corresponding to each hotel cluster.\n",
    "# '''\n",
    "\n",
    "# # initialize the sampled dataframe\n",
    "# df = pd.DataFrame(columns=df.columns)\n",
    "\n",
    "# for i in df_tr.hotel_cluster.unique():\n",
    "#     if i==i: # I was getting nan as a value in the loop for some reason\n",
    "#         df_temp = df_tr[(df_tr.is_booking == 1)&(df_tr.hotel_cluster==i)].sample(n=750)\n",
    "#         df = df.append(df_temp)\n",
    "        \n",
    "# # the sample should only be drawn from is_booking == 1 (as the test set is like that)\n",
    "\n",
    "# # check that it worked\n",
    "# print(df.shape)\n",
    "# df.hotel_cluster.value_counts()"
   ]
  },
  {
   "cell_type": "code",
   "execution_count": null,
   "metadata": {},
   "outputs": [],
   "source": [
    "# # calibrated classifier - for improvements over just taking top 5 positive results\n",
    "# # this is how we would get the model to output probabilities instead of just 0 or 1.\n",
    "\n",
    "# from sklearn.calibration import CalibratedClassifierCV\n",
    "# base_clf = DecisionTreeClassifier()\n",
    "# calibrated_clf = CalibratedClassifierCV(base_estimator=base_clf, cv=2)\n",
    "# calibrated_clf.fit(X_train, Y_train)"
   ]
  },
  {
   "cell_type": "code",
   "execution_count": null,
   "metadata": {},
   "outputs": [],
   "source": [
    "# # For PCA\n",
    "# from sklearn import decomposition\n",
    "\n",
    "# pca = decomposition.PCA(n_components=5)\n",
    "# pca.fit(X)\n",
    "# X=pca.transform(X)"
   ]
  }
 ],
 "metadata": {
  "kernelspec": {
   "display_name": "Python 3",
   "language": "python",
   "name": "python3"
  },
  "language_info": {
   "codemirror_mode": {
    "name": "ipython",
    "version": 3
   },
   "file_extension": ".py",
   "mimetype": "text/x-python",
   "name": "python",
   "nbconvert_exporter": "python",
   "pygments_lexer": "ipython3",
   "version": "3.8.10"
  }
 },
 "nbformat": 4,
 "nbformat_minor": 4
}
